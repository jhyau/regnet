{
 "cells": [
  {
   "cell_type": "code",
   "execution_count": 41,
   "id": "ba4706a3",
   "metadata": {},
   "outputs": [
    {
     "name": "stdout",
     "output_type": "stream",
     "text": [
      "The autoreload extension is already loaded. To reload it, use:\n",
      "  %reload_ext autoreload\n"
     ]
    }
   ],
   "source": [
    "%load_ext autoreload\n",
    "%autoreload 2\n",
    "\n",
    "import os\n",
    "\n",
    "import numpy as np\n",
    "import matplotlib.pyplot as plt\n",
    "\n",
    "import peak_counter"
   ]
  },
  {
   "cell_type": "code",
   "execution_count": 64,
   "id": "b9a7e85d",
   "metadata": {},
   "outputs": [],
   "source": [
    "toy_example = np.array([[0, 0, 0, 10, 0, 0, 0, 0, 0],\n",
    "                        [0, 0, 0, 10, 7, 0, 0, 0, 0],\n",
    "                        [0, 0, 7, 10, 10, 9, 0, 0, 0],\n",
    "                        [0, 2, 3, 10, 8, 0, 0, 0, 0],\n",
    "                        [0, 2, 2, 10, 2, 0, 0, 0, 0]])"
   ]
  },
  {
   "cell_type": "code",
   "execution_count": 72,
   "id": "e34834f5",
   "metadata": {},
   "outputs": [
    {
     "name": "stdout",
     "output_type": "stream",
     "text": [
      "1\n",
      "[3]\n"
     ]
    }
   ],
   "source": [
    "peaks, locations = peak_counter.count_peaks(toy_example, window_size=2)\n",
    "print(peaks)\n",
    "print(locations)"
   ]
  },
  {
   "cell_type": "code",
   "execution_count": 106,
   "id": "7d956be8",
   "metadata": {},
   "outputs": [
    {
     "name": "stdout",
     "output_type": "stream",
     "text": [
      "42 peaks at array([  40,   53,  123,  157,  172,  183,  199,  239,  340,  388,  460,\n",
      "        515,  611,  622,  633,  661,  680,  733,  796,  809,  897,  952,\n",
      "        964, 1024, 1041, 1053, 1069, 1083, 1158, 1170, 1193, 1229, 1258,\n",
      "       1315, 1345, 1359, 1460, 1481, 1502, 1528, 1625, 1688])\n"
     ]
    },
    {
     "data": {
      "text/plain": [
       "<Figure size 432x288 with 0 Axes>"
      ]
     },
     "metadata": {},
     "output_type": "display_data"
    },
    {
     "data": {
      "text/plain": [
       "<Figure size 2880x21600 with 0 Axes>"
      ]
     },
     "metadata": {},
     "output_type": "display_data"
    },
    {
     "data": {
      "image/png": "[encoded data removed]",
      "text/plain": [
       "<Figure size 432x288 with 2 Axes>"
      ]
     },
     "metadata": {
      "needs_background": "light"
     },
     "output_type": "display_data"
    }
   ],
   "source": [
    "# 44.1 sample\n",
    "datap = '../data'\n",
    "#path44 = \"features/hammer_44100/melspec_10s_44100hz/video_00159_mel.npy\"\n",
    "#path44= 'features/ASMR/ASMR_Brain_3D_Tapping/melspec_10s_44100hz/ASMR_Brain_Penetrating_3D_Tapping_No_Talking-21-of-240_mel.npy'\n",
    "#path44 = \"features/ASMR/asmr_both_vids/melspec_10s_44100hz/The_Ultiimate_Tapping_ASMR_3_Hours_No_Talking-910-of-1165_mel.npy\"\n",
    "path44 = \"features/ASMR/asmr_both_vids/melspec_10s_44100hz/ASMR_Addictive_Tapping_1_Hr_No_Talking-364-of-365_mel.npy\"\n",
    "path44 = os.path.join(datap, path44)\n",
    "assert os.path.exists(path44)\n",
    "mel44 = np.load(path44)\n",
    "peak_viz = np.zeros_like(mel44)\n",
    "peaks, locations = peak_counter.count_peaks(mel44, window_size=6, floor=0.)\n",
    "# Mark all peaks with a 1\n",
    "peak_viz[:,locations] = 1\n",
    "print('%d peaks at %r' % (peaks, locations))\n",
    "# plot it out\n",
    "plt.clf()\n",
    "plt.figure(figsize=(40, 300))\n",
    "_, ax = plt.subplots(2,1)\n",
    "ax[0].imshow(mel44)\n",
    "ax[1].imshow(peak_viz)\n",
    "plt.show()"
   ]
  },
  {
   "cell_type": "code",
   "execution_count": null,
   "id": "586f54ec",
   "metadata": {},
   "outputs": [],
   "source": []
  },
  {
   "cell_type": "code",
   "execution_count": null,
   "id": "44d71035",
   "metadata": {},
   "outputs": [],
   "source": []
  }
 ],
 "metadata": {
  "kernelspec": {
   "display_name": "Python 3 (ipykernel)",
   "language": "python",
   "name": "python3"
  },
  "language_info": {
   "codemirror_mode": {
    "name": "ipython",
    "version": 3
   },
   "file_extension": ".py",
   "mimetype": "text/x-python",
   "name": "python",
   "nbconvert_exporter": "python",
   "pygments_lexer": "ipython3",
   "version": "3.9.7"
  }
 },
 "nbformat": 4,
 "nbformat_minor": 5
}
